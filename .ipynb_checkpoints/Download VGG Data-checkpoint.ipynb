{
 "cells": [
  {
   "cell_type": "code",
   "execution_count": 2,
   "metadata": {},
   "outputs": [
    {
     "name": "stderr",
     "output_type": "stream",
     "text": [
      "/usr/lib/python2.7/dist-packages/matplotlib/font_manager.py:273: UserWarning: Matplotlib is building the font cache using fc-list. This may take a moment.\n",
      "  warnings.warn('Matplotlib is building the font cache using fc-list. This may take a moment.')\n"
     ]
    }
   ],
   "source": [
    "import requests\n",
    "import urllib\n",
    "import tarfile\n",
    "import os\n",
    "from scipy import misc\n",
    "import numpy as np\n",
    "from skimage import io\n",
    "import time\n",
    "import os\n",
    "import socket\n",
    "from urllib2 import urlopen\n",
    "global f\n",
    "\n",
    "import sys\n",
    "\n"
   ]
  },
  {
   "cell_type": "code",
   "execution_count": 3,
   "metadata": {
    "collapsed": true
   },
   "outputs": [],
   "source": [
    "if False:\n",
    "    url = 'http://www.robots.ox.ac.uk/~vgg/data/vgg_face/vgg_face_dataset.tar.gz'\n",
    "    fname,response=urllib.urlretrieve(url, \"vgg_face_dataset.tar.gz\")\n",
    "    tar = tarfile.open(fname, \"r:gz\")\n",
    "    tar.extractall()\n",
    "    tar.close()"
   ]
  },
  {
   "cell_type": "code",
   "execution_count": 4,
   "metadata": {},
   "outputs": [
    {
     "name": "stdout",
     "output_type": "stream",
     "text": [
      "['.vscode', 'Download VGG Data.ipynb', '.git', 'opencv _haarcascade', 'log', 'Face Recognition', '1-CNNs-Basics', 'setup.py', '.gitignore', 'README.md', 'Neural Network - Image Recognition', '.ipynb_checkpoints', 'data', 'Deep MNIST for Experts.ipynb']\n"
     ]
    }
   ],
   "source": [
    "print os.listdir(os.getcwd())"
   ]
  },
  {
   "cell_type": "code",
   "execution_count": 5,
   "metadata": {
    "collapsed": true
   },
   "outputs": [],
   "source": [
    "def replace_cmd_line(output):\n",
    "    \"\"\"Replace the last command line output with the given output.\"\"\"\n",
    "    sys.stdout.write(output)\n",
    "    sys.stdout.flush()\n",
    "    sys.stdout.write('\\r')\n",
    "    sys.stdout.flush()"
   ]
  },
  {
   "cell_type": "code",
   "execution_count": 6,
   "metadata": {
    "collapsed": true
   },
   "outputs": [],
   "source": [
    "def main():\n",
    "    socket.setdefaulttimeout(30)\n",
    "    datasetDescriptor = 'data/faces'\n",
    "    textFileNames = sorted(os.listdir(datasetDescriptor))[:5]\n",
    "    person = 0\n",
    "\n",
    "    for textFileName in textFileNames:\n",
    "        if textFileName.endswith('.txt'):\n",
    "            person += 1\n",
    "            with open(os.path.join(datasetDescriptor, textFileName), 'rt') as f:\n",
    "                lines = f.readlines()[:350]\n",
    "            lastLine = int(lines[-1].split(' ')[0])\n",
    "            dirName = textFileName.split('.txt')[0]\n",
    "            \n",
    "            classPath = os.path.join(\"data/faces_images\", dirName)\n",
    "            if not os.path.exists(classPath):\n",
    "                os.makedirs(classPath)\n",
    "                lastfile = 0\n",
    "            else:\n",
    "                files = sorted(os.listdir(classPath))\n",
    "                lastfile = int(files[-1].split('.png')[0])\n",
    "\n",
    "            if lastLine == lastfile:\n",
    "                print person, dirName, lastfile, \"Done!\"\n",
    "                continue\n",
    "\n",
    "            for line in lines:\n",
    "                x = line.split(' ')\n",
    "                fileName = x[0]\n",
    "                url = x[1]\n",
    "                errorLine = ''\n",
    "\n",
    "                if lastfile < int(fileName):\n",
    "                    box = np.rint(np.array(map(float, x[2:6])))\n",
    "                    imagePath = os.path.join(\"data/faces_images\", dirName, fileName+'.png')\n",
    "                    if not os.path.exists(imagePath):\n",
    "                        try:\n",
    "                            img = io.imread(urlopen(url,timeout = 10))\n",
    "                        except Exception as e:\n",
    "                            errorMessage = '{}: {}'.format(url, e)\n",
    "                            errorLine = line\n",
    "                        else:\n",
    "                            try:\n",
    "                                if img.ndim == 2:\n",
    "                                    img = toRgb(img)\n",
    "                                if img.ndim != 3:\n",
    "                                    raise Exception('Wrong number of image dimensions')\n",
    "                                hist = np.histogram(img, 255, density=True)\n",
    "                                if hist[0][0] > 0.9 and hist[0][254] > 0.9:\n",
    "                                    raise Exception('Image is mainly black or white')\n",
    "                                else:\n",
    "                                    errorMessage = 'ok!'\n",
    "                                imgCropped = img[int(box[1]):int(box[3]),int(box[0]):int(box[2]),:]\n",
    "                                imgResized = misc.imresize(imgCropped, (256,256))\n",
    "                                misc.imsave(imagePath, imgResized)\n",
    "                            except Exception as e:\n",
    "                                errorMessage = '{}: {}'.format(url, e)\n",
    "                                errorLine = line\n",
    "                            replace_cmd_line(\"\\r\"+str(person)+\" \"+dirName+\" \"+fileName+\" \"+errorMessage+\"\\r\")\n",
    "            print \"\\r\" + dirName + \" Done!              \""
   ]
  },
  {
   "cell_type": "code",
   "execution_count": 7,
   "metadata": {},
   "outputs": [
    {
     "name": "stdout",
     "output_type": "stream",
     "text": [
      "1 A.J._Buckley 350 Done!\n",
      "2 A.R._Rahman 350 Done!\n",
      "A_P_J_Abdul_Kalam Done!              \n",
      "4 Aamir_Khan 350 Done!\n",
      "5 Aaron_Staton 350 Done!\n"
     ]
    }
   ],
   "source": [
    "def toRgb(img):\n",
    "    w, h = img.shape\n",
    "    ret = np.empty((w, h, 3), dtype=np.uint8)\n",
    "    ret[:, :, 0] = ret[:, :, 1] = ret[:, :, 2] = img\n",
    "    return ret\n",
    "\n",
    "if __name__ == '__main__':\n",
    "    main()"
   ]
  },
  {
   "cell_type": "code",
   "execution_count": null,
   "metadata": {
    "collapsed": true
   },
   "outputs": [],
   "source": []
  }
 ],
 "metadata": {
  "kernelspec": {
   "display_name": "Python 2",
   "language": "python",
   "name": "python2"
  },
  "language_info": {
   "codemirror_mode": {
    "name": "ipython",
    "version": 2
   },
   "file_extension": ".py",
   "mimetype": "text/x-python",
   "name": "python",
   "nbconvert_exporter": "python",
   "pygments_lexer": "ipython2",
   "version": "2.7.12"
  }
 },
 "nbformat": 4,
 "nbformat_minor": 2
}
