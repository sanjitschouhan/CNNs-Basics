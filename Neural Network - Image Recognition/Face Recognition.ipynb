{
 "cells": [
  {
   "cell_type": "markdown",
   "metadata": {},
   "source": [
    "# Face Recognition (Research Project)\n",
    "\n",
    "Recognising Faces of famous Celebrities\n",
    "\n",
    "### Data Used\n",
    "VGG Face data of about 3000+ Celebrities with 1000 images each\n",
    "\n"
   ]
  },
  {
   "cell_type": "code",
   "execution_count": 1,
   "metadata": {
    "collapsed": true,
    "scrolled": false
   },
   "outputs": [],
   "source": [
    "# Install required libraries\n",
    "if False:\n",
    "    ! conda install scipy -y -q\n",
    "    ! conda install matplotlib -y -q\n",
    "    ! conda install pillow -y -q\n",
    "    ! conda install PIL -y -q\n",
    "    ! conda install scikit-image -y -q"
   ]
  },
  {
   "cell_type": "code",
   "execution_count": 2,
   "metadata": {
    "collapsed": true
   },
   "outputs": [],
   "source": [
    "#import libraries\n",
    "import tensorflow as tf\n",
    "import numpy as np\n",
    "\n",
    "import os\n",
    "import sys\n",
    "\n",
    "import scipy\n",
    "from scipy import ndimage, misc\n",
    "from skimage.transform import resize\n",
    "\n",
    "import matplotlib.pyplot as plt\n",
    "import matplotlib.image as mpimg\n",
    "%matplotlib inline\n",
    "plt.ion()"
   ]
  },
  {
   "cell_type": "code",
   "execution_count": 3,
   "metadata": {
    "collapsed": true
   },
   "outputs": [],
   "source": [
    "# Class for a dataset\n",
    "class DataSet(object):\n",
    "    \"\"\"Dataset class object.\"\"\"\n",
    "\n",
    "    def __init__(self, images, labels):\n",
    "        \"\"\"Initialize the class.\"\"\"\n",
    "        self._images = images\n",
    "        self._num_examples = images.shape[0]\n",
    "        self._labels = labels\n",
    "        self._epochs_completed = 0\n",
    "        self._index_in_epoch = 0\n",
    "        self._epochs_changed = False\n",
    "\n",
    "    @property\n",
    "    def images(self):\n",
    "        return self._images\n",
    "\n",
    "    @property\n",
    "    def labels(self):\n",
    "        return self._labels\n",
    "\n",
    "    @property\n",
    "    def num_examples(self):\n",
    "        return self._num_examples\n",
    "\n",
    "    @property\n",
    "    def epochs_completed(self):\n",
    "        return self._epochs_completed\n",
    "    \n",
    "    @property\n",
    "    def epochs_changed(self):\n",
    "        if self._epochs_changed:\n",
    "            self._epochs_changed = False\n",
    "            return True\n",
    "        return False\n",
    "\n",
    "    def next_batch(self, batch_size):\n",
    "        \"\"\"Return the next `batch_size` examples from this data set.\"\"\"\n",
    "        start = self._index_in_epoch\n",
    "        self._index_in_epoch += batch_size\n",
    "        if self._index_in_epoch > self._num_examples:\n",
    "            # Finished epoch\n",
    "            self._epochs_completed += 1\n",
    "            self._epochs_changed = True\n",
    "            # Shuffle the data\n",
    "            perm = np.arange(self._num_examples)\n",
    "            np.random.shuffle(perm)\n",
    "            self._images = self._images[perm]\n",
    "            self._labels = self._labels[perm]\n",
    "            # Start next epoch\n",
    "            start = 0\n",
    "            self._index_in_epoch = batch_size\n",
    "            assert batch_size <= self._num_examples\n",
    "        end = self._index_in_epoch\n",
    "\n",
    "        return self._images[start:end], self._labels[start:end]"
   ]
  },
  {
   "cell_type": "code",
   "execution_count": 4,
   "metadata": {
    "collapsed": true
   },
   "outputs": [],
   "source": [
    "# dimentions to be used in model\n",
    "height, width = 256/2, 256/2\n",
    "n_classes = 0"
   ]
  },
  {
   "cell_type": "code",
   "execution_count": 5,
   "metadata": {
    "collapsed": true
   },
   "outputs": [],
   "source": [
    "# function to resize images\n",
    "def resize_image(img):\n",
    "    global height, width\n",
    "    r_img = resize(img,(height,width,3),mode='constant')\n",
    "    return r_img"
   ]
  },
  {
   "cell_type": "code",
   "execution_count": 6,
   "metadata": {
    "collapsed": true
   },
   "outputs": [],
   "source": [
    "def replace_cmd_line(output):\n",
    "    \"\"\"Replace the last command line output with the given output.\"\"\"\n",
    "    sys.stdout.write(output)\n",
    "    sys.stdout.flush()\n",
    "    sys.stdout.write('\\r')\n",
    "    sys.stdout.flush()"
   ]
  },
  {
   "cell_type": "code",
   "execution_count": 7,
   "metadata": {
    "collapsed": true
   },
   "outputs": [],
   "source": [
    "# Load Data from folders\n",
    "def LoadData(path, validatation_data_percentage, test_data_percentage):\n",
    "    assert (validatation_data_percentage>0 and validatation_data_percentage<=50), \"Invalid Validation Percentage(1-50)\"\n",
    "    assert (test_data_percentage>0 and test_data_percentage<=50), \"Invalid Test Percentage(1-50)\"\n",
    "    assert (validatation_data_percentage+test_data_percentage<100), \"Invalid Percentages(validation+test<100)\"\n",
    "\n",
    "    classes = os.listdir(path)[:5]\n",
    "    \n",
    "    global n_classes\n",
    "    n_classes = len(classes)\n",
    "    \n",
    "    prompt=\"Loading Data: \"\n",
    "    \n",
    "    n = 0\n",
    "    images = []\n",
    "    labels = []\n",
    "    for label in classes:\n",
    "        for img_file in os.listdir(path + label):\n",
    "            img = ndimage.imread(path+label+\"/\"+img_file,mode='RGB')\n",
    "            images.append(resize_image(img))\n",
    "            replace_cmd_line(prompt+label+' '+img_file)\n",
    "            labels.append(n)\n",
    "        n+=1\n",
    "\n",
    "    images = np.array(images)\n",
    "    labels = np.array(labels)\n",
    "    labels = np.identity(len(classes))[labels]\n",
    "    \n",
    "    print prompt+\"Done\"+\" \"*30\n",
    "    \n",
    "    total_data_size = len(labels)\n",
    "    print \"Shuffling Data...\",\n",
    "    perm = np.arange(total_data_size)\n",
    "    np.random.shuffle(perm)\n",
    "    images = images[perm]\n",
    "    labels = labels[perm]\n",
    "    print \"Done\"\n",
    "    \n",
    "    print \"Splitting Data...\",\n",
    "    validation_data_size = total_data_size * validatation_data_percentage / 100\n",
    "    test_data_size = total_data_size * test_data_percentage / 100\n",
    "    \n",
    "    test_data_images = images[:test_data_size]\n",
    "    test_data_labels = labels[:test_data_size]\n",
    "    \n",
    "    validation_data_images = images[test_data_size:test_data_size+validation_data_size]\n",
    "    validation_data_labels = labels[test_data_size:test_data_size+validation_data_size]\n",
    "    \n",
    "    train_data_images = images[test_data_size+validation_data_size:]\n",
    "    train_data_labels = labels[test_data_size+validation_data_size:]\n",
    "    \n",
    "    print \"Done\"\n",
    "    \n",
    "    return DataSet(train_data_images, train_data_labels), DataSet(validation_data_images, validation_data_labels), DataSet(test_data_images, test_data_labels)"
   ]
  },
  {
   "cell_type": "code",
   "execution_count": 8,
   "metadata": {},
   "outputs": [
    {
     "name": "stdout",
     "output_type": "stream",
     "text": [
      "Loading Data: Aamir_Khan 00000121.png\r"
     ]
    },
    {
     "name": "stderr",
     "output_type": "stream",
     "text": [
      "/home/sanjit/miniconda2/envs/tensorflow/lib/python2.7/site-packages/ipykernel_launcher.py:19: DeprecationWarning: `imread` is deprecated!\n",
      "`imread` is deprecated in SciPy 1.0.0.\n",
      "Use ``matplotlib.pyplot.imread`` instead.\n"
     ]
    },
    {
     "name": "stdout",
     "output_type": "stream",
     "text": [
      "Loading Data: Done                              \n",
      "Shuffling Data... Done\n",
      "Splitting Data... Done\n"
     ]
    }
   ],
   "source": [
    "trainset, validationset, testset = LoadData(\"../data/faces_images/\", 20,20)"
   ]
  },
  {
   "cell_type": "code",
   "execution_count": 9,
   "metadata": {
    "scrolled": false
   },
   "outputs": [
    {
     "name": "stdout",
     "output_type": "stream",
     "text": [
      "\t\tImages\t\t\tLabels\n",
      "Training:\t(116, 128, 128, 3) \t(116, 5)\n",
      "Validation:\t(38, 128, 128, 3) \t(38, 5)\n",
      "Testing:\t(38, 128, 128, 3) \t(38, 5)\n"
     ]
    }
   ],
   "source": [
    "print '\\t\\tImages\\t\\t\\tLabels'\n",
    "print 'Training:\\t', trainset.images.shape,'\\t', trainset.labels.shape\n",
    "print 'Validation:\\t', validationset.images.shape,'\\t', validationset.labels.shape\n",
    "print 'Testing:\\t', testset.images.shape,'\\t', testset.labels.shape"
   ]
  },
  {
   "cell_type": "markdown",
   "metadata": {},
   "source": [
    "## Prameters"
   ]
  },
  {
   "cell_type": "code",
   "execution_count": 10,
   "metadata": {},
   "outputs": [
    {
     "name": "stdout",
     "output_type": "stream",
     "text": [
      "Input Size: 16384\n",
      "Number of Classes: 5\n",
      "Batch Size: 32\n",
      "Epochs: 5\n",
      "Kernel Size: [3, 3]\n"
     ]
    }
   ],
   "source": [
    "batch_size = 32\n",
    "epochs = 50\n",
    "\n",
    "n_input = height * width\n",
    "\n",
    "kernel_size = [3,3]\n",
    "input_channels = 3\n",
    "output_channels = 64\n",
    "\n",
    "print 'Input Size:',n_input\n",
    "print 'Number of Classes:', n_classes\n",
    "print 'Batch Size:', batch_size\n",
    "print 'Epochs:', epochs\n",
    "print 'Kernel Size:', kernel_size"
   ]
  },
  {
   "cell_type": "code",
   "execution_count": 11,
   "metadata": {
    "collapsed": true
   },
   "outputs": [],
   "source": [
    "def weight_variable(shape):\n",
    "    initial = tf.truncated_normal(shape, stddev=0.1)\n",
    "    return tf.Variable(initial,name=\"weight\")\n",
    "\n",
    "def bias_variable(shape):\n",
    "    initial = tf.constant(0.1,shape=shape)\n",
    "    return tf.Variable(initial, name=\"bias\")\n",
    "\n",
    "def conv2d(x, W):\n",
    "    return tf.nn.conv2d(x, W, strides=[1,1,1,1], padding='SAME')\n",
    "\n",
    "def max_pool_2x2(x):\n",
    "    return tf.nn.max_pool(x, ksize=[1,3,3,1], strides=[1,2,2,1],padding='SAME')"
   ]
  },
  {
   "cell_type": "code",
   "execution_count": 12,
   "metadata": {},
   "outputs": [
    {
     "data": {
      "text/plain": [
       "<contextlib.GeneratorContextManager at 0x7f3cae7bd5d0>"
      ]
     },
     "execution_count": 12,
     "metadata": {},
     "output_type": "execute_result"
    }
   ],
   "source": [
    "sess = tf.Session(config=tf.ConfigProto(log_device_placement=True))\n",
    "sess.as_default()"
   ]
  },
  {
   "cell_type": "code",
   "execution_count": 13,
   "metadata": {
    "collapsed": true
   },
   "outputs": [],
   "source": [
    "# Graph Input\n",
    "x = tf.placeholder(tf.float32, [None, height,width,3], name=\"input_features\")\n",
    "y = tf.placeholder(tf.float32, [None, n_classes], name=\"labels\")\n",
    "keep_prob = tf.placeholder(tf.float32, name=\"keep_prob\")\n",
    "\n",
    "# layer 1 ?x128x128x3 => ?x64x64x64\n",
    "W_conv1 = weight_variable([3,3,3,64])\n",
    "b_conv1 = bias_variable([64])\n",
    "\n",
    "h_conv1 = tf.nn.relu(conv2d(x, W_conv1) + b_conv1, name=\"h_conv1\")\n",
    "h_pool1 = max_pool_2x2(h_conv1)\n",
    "\n",
    "# layer 2 ?x64x64x64 => ?x32x32x128\n",
    "W_conv2 = weight_variable([3,3,64,128])\n",
    "b_conv2 = bias_variable([128])\n",
    "\n",
    "h_conv2 = tf.nn.relu(conv2d(h_pool1, W_conv2) + b_conv2, name=\"h_conv2\")\n",
    "h_pool2 = max_pool_2x2(h_conv2)\n",
    "\n",
    "# layer 3 ?x32x32x128 => ?x16x16x256\n",
    "W_conv3 = weight_variable([3,3,128,256])\n",
    "b_conv3 = bias_variable([256])\n",
    "\n",
    "h_conv3 = tf.nn.relu(conv2d(h_pool2, W_conv3) + b_conv3, name=\"h_conv3\")\n",
    "h_pool3 = max_pool_2x2(h_conv3)\n",
    "\n",
    "# layer 4 ?x16x16x256 => ?x8x8x512\n",
    "W_conv4 = weight_variable([3,3,256,512])\n",
    "b_conv4 = bias_variable([512])\n",
    "\n",
    "h_conv4 = tf.nn.relu(conv2d(h_pool3, W_conv4) + b_conv4, name=\"h_conv4\")\n",
    "h_pool4 = max_pool_2x2(h_conv4)\n",
    "\n",
    "# fully connected layer 1  ?x8x8x512 => ?x1024\n",
    "W_fc1 = weight_variable([8*8*512,1024])\n",
    "b_fc1 = bias_variable([1024])\n",
    "\n",
    "h_pool4_flat = tf.reshape(h_pool4, [-1, 8*8*512], name=\"flattened_pool_layer\")\n",
    "h_fc1 = tf.nn.relu(tf.matmul(h_pool4_flat,W_fc1) + b_fc1, name=\"h_fc1\")\n",
    "h_fc1_drop = tf.nn.dropout(h_fc1, keep_prob, name=\"h_fc1_drop\")\n",
    "\n",
    "# fully connected layer 2   ?x1024 => ?xn_classes\n",
    "W_fc2 = weight_variable([1024,n_classes])\n",
    "b_fc2 = bias_variable([n_classes])\n",
    "y_conv = tf.matmul(h_fc1_drop ,W_fc2) + b_fc2"
   ]
  },
  {
   "cell_type": "code",
   "execution_count": 14,
   "metadata": {
    "collapsed": true
   },
   "outputs": [],
   "source": [
    "cross_entropy = tf.reduce_mean(tf.nn.softmax_cross_entropy_with_logits(labels=y, logits=y_conv), name=\"cross_entropy\")\n",
    "train_step = tf.train.AdamOptimizer(learning_rate=0.01,name=\"optimizer\").minimize(cross_entropy)\n",
    "correct_prediction = tf.equal(tf.argmax(y_conv,1), tf.argmax(y,1), name=\"correct_prediction\")\n",
    "accuracy = tf.reduce_mean(tf.cast(correct_prediction,tf.float32), name=\"accuracy\")\n",
    "\n",
    "sess.run(tf.global_variables_initializer())\n",
    "writer = tf.summary.FileWriter(\"log\", y_conv.graph);"
   ]
  },
  {
   "cell_type": "code",
   "execution_count": 15,
   "metadata": {
    "collapsed": true
   },
   "outputs": [],
   "source": [
    "# saver = tf.train.Saver()\n",
    "# saver.restore(sess, \"saved models/model\"+str(n_classes)+\".ckpt\")"
   ]
  },
  {
   "cell_type": "code",
   "execution_count": 16,
   "metadata": {
    "collapsed": true
   },
   "outputs": [],
   "source": [
    "def print_training_status(train_accuracy, epochs_completed, epochs, loss):\n",
    "    epoch_c = 40 * epochs_completed / epochs\n",
    "    epoch_r = 40 - epoch_c\n",
    "    s = \"Epochs: {}/{} [{}{}] Loss: {} Accuracy: {}\".format(epochs_completed,epochs,'='*epoch_c, '_'*epoch_r, loss, train_accuracy)\n",
    "    replace_cmd_line(s)"
   ]
  },
  {
   "cell_type": "code",
   "execution_count": 17,
   "metadata": {
    "scrolled": false
   },
   "outputs": [
    {
     "name": "stdout",
     "output_type": "stream",
     "text": [
      "Epochs: 5/5 [========================================] Loss: 1.56464040279 Accuracy: 0.21875\r"
     ]
    }
   ],
   "source": [
    "graphx = []\n",
    "graph_accuracy = []\n",
    "graph_loss = []\n",
    "train_accuracy = 0\n",
    "while trainset.epochs_completed < epochs:\n",
    "    if trainset.epochs_changed:\n",
    "        validation_batch = validationset.next_batch(batch_size)\n",
    "        train_accuracy = accuracy.eval(feed_dict={x: validation_batch[0], y: validation_batch[1], keep_prob: 1.0}, session=sess)\n",
    "#         print('step %d, training accuracy %g' % (steps, train_accuracy))\n",
    "        graphx.append(trainset.epochs_completed)\n",
    "        graph_accuracy.append(train_accuracy*100)\n",
    "    batch = trainset.next_batch(batch_size)\n",
    "    _, loss = sess.run([train_step,cross_entropy], feed_dict={x: batch[0], y: batch[1], keep_prob:0.5})\n",
    "    print_training_status(train_accuracy, trainset.epochs_completed, epochs, loss)\n",
    "    graph_loss.append(loss)"
   ]
  },
  {
   "cell_type": "code",
   "execution_count": 18,
   "metadata": {
    "scrolled": false
   },
   "outputs": [
    {
     "data": {
      "image/png": "[encoded data removed]",
      "text/plain": [
       "<matplotlib.figure.Figure at 0x7f3cae76c490>"
      ]
     },
     "metadata": {},
     "output_type": "display_data"
    }
   ],
   "source": [
    "# print graphy\n",
    "\n",
    "plt.figure(figsize=(15,5))\n",
    "plt.subplot(1,2,1)\n",
    "plt.plot(graphx, graph_accuracy)\n",
    "plt.ylabel('Accuracy')\n",
    "plt.xlabel('Epoches')\n",
    "plt.ylim(ymin=0, ymax=101)\n",
    "plt.title('Accuracy on Validation Data', fontsize=16)\n",
    "\n",
    "plt.subplot(1,2,2)\n",
    "plt.plot(graph_loss)\n",
    "plt.ylabel('Loss')\n",
    "plt.xlabel('Training Steps')\n",
    "plt.ylim(ymin=0)\n",
    "plt.title('Loss over Training Steps', fontsize=16)\n",
    "\n",
    "plt.show()"
   ]
  },
  {
   "cell_type": "code",
   "execution_count": 19,
   "metadata": {
    "scrolled": false
   },
   "outputs": [
    {
     "name": "stdout",
     "output_type": "stream",
     "text": [
      "test accuracy 0.289474\n"
     ]
    }
   ],
   "source": [
    "test_accuracy = accuracy.eval(feed_dict={x: testset.images, y: testset.labels, keep_prob: 1.0}, session=sess)\n",
    "print 'test accuracy %g' % test_accuracy"
   ]
  },
  {
   "cell_type": "code",
   "execution_count": 20,
   "metadata": {},
   "outputs": [
    {
     "data": {
      "text/plain": [
       "'saved models/model5.ckpt'"
      ]
     },
     "execution_count": 20,
     "metadata": {},
     "output_type": "execute_result"
    }
   ],
   "source": [
    "saver = tf.train.Saver()\n",
    "saver.save(sess, \"saved models/model\"+str(n_classes)+\".ckpt\")"
   ]
  },
  {
   "cell_type": "code",
   "execution_count": null,
   "metadata": {
    "collapsed": true
   },
   "outputs": [],
   "source": []
  },
  {
   "cell_type": "code",
   "execution_count": null,
   "metadata": {
    "collapsed": true
   },
   "outputs": [],
   "source": []
  }
 ],
 "metadata": {
  "kernelspec": {
   "display_name": "Python (tensorflow)",
   "language": "python",
   "name": "tensorflow"
  },
  "language_info": {
   "codemirror_mode": {
    "name": "ipython",
    "version": 2
   },
   "file_extension": ".py",
   "mimetype": "text/x-python",
   "name": "python",
   "nbconvert_exporter": "python",
   "pygments_lexer": "ipython2",
   "version": "2.7.14"
  }
 },
 "nbformat": 4,
 "nbformat_minor": 2
}
