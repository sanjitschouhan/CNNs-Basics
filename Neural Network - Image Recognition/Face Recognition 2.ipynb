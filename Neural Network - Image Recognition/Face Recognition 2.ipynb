{
 "cells": [
  {
   "cell_type": "code",
   "execution_count": 13,
   "metadata": {},
   "outputs": [],
   "source": [
    "import tensorflow.contrib.slim as slim"
   ]
  },
  {
   "cell_type": "code",
   "execution_count": 12,
   "metadata": {},
   "outputs": [
    {
     "ename": "SyntaxError",
     "evalue": "invalid syntax (<ipython-input-12-b8d713df7fa8>, line 7)",
     "output_type": "error",
     "traceback": [
      "\u001b[0;36m  File \u001b[0;32m\"<ipython-input-12-b8d713df7fa8>\"\u001b[0;36m, line \u001b[0;32m7\u001b[0m\n\u001b[0;31m    input =\u001b[0m\n\u001b[0m            ^\u001b[0m\n\u001b[0;31mSyntaxError\u001b[0m\u001b[0;31m:\u001b[0m invalid syntax\n"
     ]
    }
   ],
   "source": [
    "def my_neural_network(input):\n",
    "    net = slim.fully_connected(input, 256, scope='layer1-256-fc')\n",
    "    net = slim.fully_connected(net, 256, scope='layer2-256-fc')\n",
    "\n",
    "    return net\n",
    "\n",
    "input = \n",
    "output = my_neural_network(input)"
   ]
  },
  {
   "cell_type": "code",
   "execution_count": null,
   "metadata": {
    "collapsed": true
   },
   "outputs": [],
   "source": [
    "def nielsen_net(inputs, is_training, scope='NielsenNet'):\n",
    "    with tf.variable_scope(scope, 'NielsenNet'):\n",
    "        # First Group: Convolution + Pooling 28x28x1 => 28x28x20 => 14x14x20\n",
    "        net = slim.conv2d(inputs, 20, [5, 5], padding='SAME', scope='layer1-conv')\n",
    "        net = slim.max_pool2d(net, 2, stride=2, scope='layer2-max-pool')\n",
    "\n",
    "        # Second Group: Convolution + Pooling 14x14x20 => 10x10x40 => 5x5x40\n",
    "        net = slim.conv2d(net, 40, [5, 5], padding='VALID', scope='layer3-conv')\n",
    "        net = slim.max_pool2d(net, 2, stride=2, scope='layer4-max-pool')\n",
    "\n",
    "        # Reshape: 5x5x40 => 1000x1\n",
    "        net = tf.reshape(net, [-1, 5*5*40])\n",
    "\n",
    "        # Fully Connected Layer: 1000x1 => 1000x1\n",
    "        net = slim.fully_connected(net, 1000, scope='layer5')\n",
    "        net = slim.dropout(net, is_training=is_training, scope='layer5-dropout')\n",
    "\n",
    "        # Second Fully Connected: 1000x1 => 1000x1\n",
    "        net = slim.fully_connected(net, 1000, scope='layer6')\n",
    "        net = slim.dropout(net, is_training=is_training, scope='layer6-dropout')\n",
    "\n",
    "        # Output Layer: 1000x1 => 10x1\n",
    "        net = slim.fully_connected(net, 10, scope='output')\n",
    "        net = slim.dropout(net, is_training=is_training, scope='output-dropout')\n",
    "\n",
    "    return net"
   ]
  }
 ],
 "metadata": {
  "kernelspec": {
   "display_name": "Python 2",
   "language": "python",
   "name": "python2"
  },
  "language_info": {
   "codemirror_mode": {
    "name": "ipython",
    "version": 2
   },
   "file_extension": ".py",
   "mimetype": "text/x-python",
   "name": "python",
   "nbconvert_exporter": "python",
   "pygments_lexer": "ipython2",
   "version": "2.7.12"
  }
 },
 "nbformat": 4,
 "nbformat_minor": 2
}
