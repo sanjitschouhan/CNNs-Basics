{
 "cells": [
  {
   "cell_type": "code",
   "execution_count": 42,
   "metadata": {},
   "outputs": [],
   "source": [
    "from scipy import misc\n",
    "import numpy as np\n",
    "from skimage import io\n",
    "import time\n",
    "import os\n",
    "import socket\n",
    "from urllib2 import urlopen\n",
    "global f"
   ]
  },
  {
   "cell_type": "code",
   "execution_count": 73,
   "metadata": {},
   "outputs": [],
   "source": [
    "def main():\n",
    "    socket.setdefaulttimeout(30)\n",
    "    datasetDescriptor = '../data/faces'\n",
    "    textFileNames = sorted(os.listdir(datasetDescriptor))[:10]\n",
    "    print textFileNames\n",
    "    person = 0\n",
    "\n",
    "    for textFileName in textFileNames:\n",
    "        if textFileName.endswith('.txt'):\n",
    "            person += 1\n",
    "            with open(os.path.join(datasetDescriptor, textFileName), 'rt') as f:\n",
    "                lines = f.readlines()[:10]\n",
    "            lastLine = int(lines[-1].split(' ')[0])\n",
    "            print lastLine\n",
    "            dirName = textFileName.split('.txt')[0]\n",
    "            classPath = os.path.join(\"../data/faces_images\", dirName)\n",
    "            if not os.path.exists(classPath):\n",
    "                os.makedirs(classPath)\n",
    "                lastfile = 0\n",
    "            else:\n",
    "                files = sorted(os.listdir(classPath))\n",
    "                lastfile = int(files[-1].split('.png')[0])\n",
    "\n",
    "            if lastLine == lastfile:\n",
    "                print person, dirName, lastfile, \"Done!\"\n",
    "                continue\n",
    "\n",
    "            for line in lines:\n",
    "                x = line.split(' ')\n",
    "                fileName = x[0]\n",
    "                url = x[1]\n",
    "                errorLine = ''\n",
    "\n",
    "                if lastfile < int(fileName):\n",
    "                    box = np.rint(np.array(map(float, x[2:6])))\n",
    "                    imagePath = os.path.join(\"../data/faces_images\", dirName, fileName+'.png')\n",
    "\n",
    "                    if not os.path.exists(imagePath):\n",
    "                        try:\n",
    "                            img = io.imread(urlopen(url,timeout = 10))\n",
    "                        except Exception as e:\n",
    "                            errorMessage = '{}: {}'.format(url, e)\n",
    "                            errorLine = line\n",
    "                        else:\n",
    "                            try:\n",
    "                                if img.ndim == 2:\n",
    "                                    img = toRgb(img)\n",
    "                                if img.ndim != 3:\n",
    "                                    raise Exception('Wrong number of image dimensions')\n",
    "                                hist = np.histogram(img, 255, density=True)\n",
    "                                if hist[0][0] > 0.9 and hist[0][254] > 0.9:\n",
    "                                    raise Exception('Image is mainly black or white')\n",
    "                                else:\n",
    "                                    errorMessage = 'ok!'\n",
    "                                imgCropped = img[int(box[1]):int(box[3]),int(box[0]):int(box[2]),:]\n",
    "                                imgResized = misc.imresize(imgCropped, (256,256))\n",
    "                                misc.imsave(imagePath, imgResized)\n",
    "                            except Exception as e:\n",
    "                                errorMessage = '{}: {}'.format(url, e)\n",
    "                                errorLine = line\n",
    "                            print person,dirName,fileName,errorMessage\n",
    "                with open(\"../data/fix/\"+dirName+\".txt\",\"a\") as fix:\n",
    "                    if line != errorLine:\n",
    "                        fix.write(line)\n",
    "            print dirName + \" Done!\""
   ]
  },
  {
   "cell_type": "code",
   "execution_count": 74,
   "metadata": {},
   "outputs": [
    {
     "name": "stdout",
     "output_type": "stream",
     "text": [
      "['A.J._Buckley.txt', 'A.R._Rahman.txt', 'A_P_J_Abdul_Kalam.txt', 'Aamir_Khan.txt', 'Aaron_Staton.txt', 'Aaron_Tveit.txt', 'Aaron_Yoo.txt', 'Abbie_Cornish.txt', 'Abel_Ferrara.txt', 'Abigail_Breslin.txt']\n",
      "10\n",
      "1 A.J._Buckley 10 Done!\n",
      "10\n",
      "2 A.R._Rahman 10 Done!\n",
      "10\n",
      "3 A_P_J_Abdul_Kalam 10 Done!\n",
      "10\n",
      "Aamir_Khan Done!\n",
      "10\n",
      "Aaron_Staton Done!\n",
      "10\n",
      "6 Aaron_Tveit 10 Done!\n",
      "10\n",
      "Aaron_Yoo Done!\n",
      "10\n",
      "Abbie_Cornish Done!\n",
      "10\n",
      "Abel_Ferrara Done!\n",
      "10\n",
      "10 Abigail_Breslin 10 Done!\n"
     ]
    }
   ],
   "source": [
    "def toRgb(img):\n",
    "    w, h = img.shape\n",
    "    ret = np.empty((w, h, 3), dtype=np.uint8)\n",
    "    ret[:, :, 0] = ret[:, :, 1] = ret[:, :, 2] = img\n",
    "    return ret\n",
    "\n",
    "if __name__ == '__main__':\n",
    "    main()"
   ]
  },
  {
   "cell_type": "code",
   "execution_count": null,
   "metadata": {
    "collapsed": true
   },
   "outputs": [],
   "source": []
  },
  {
   "cell_type": "code",
   "execution_count": null,
   "metadata": {
    "collapsed": true
   },
   "outputs": [],
   "source": []
  },
  {
   "cell_type": "code",
   "execution_count": null,
   "metadata": {
    "collapsed": true
   },
   "outputs": [],
   "source": []
  }
 ],
 "metadata": {
  "kernelspec": {
   "display_name": "Python 2",
   "language": "python",
   "name": "python2"
  },
  "language_info": {
   "codemirror_mode": {
    "name": "ipython",
    "version": 2
   },
   "file_extension": ".py",
   "mimetype": "text/x-python",
   "name": "python",
   "nbconvert_exporter": "python",
   "pygments_lexer": "ipython2",
   "version": "2.7.12"
  }
 },
 "nbformat": 4,
 "nbformat_minor": 2
}
